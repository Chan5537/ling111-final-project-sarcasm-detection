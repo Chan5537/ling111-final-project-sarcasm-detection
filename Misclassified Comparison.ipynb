{
 "cells": [
  {
   "cell_type": "markdown",
   "metadata": {},
   "source": [
    "# Misclassified Comparison Code\n"
   ]
  },
  {
   "cell_type": "code",
   "execution_count": null,
   "metadata": {
    "ExecuteTime": {
     "end_time": "2020-04-04T18:24:04.641764Z",
     "start_time": "2020-04-04T18:24:04.075375Z"
    }
   },
   "outputs": [],
   "source": [
    "\n",
    "\n",
    "import pandas as pd\n",
    "from collections import Counter\n",
    "import glob\n",
    "\n",
    "file_paths = glob.glob(\"Misclassified-Examples/*.xlsx\")\n",
    "\n",
    "headline_counter = Counter()\n",
    "true_labels = {}\n",
    "\n",
    "for file in file_paths:\n",
    "    df = pd.read_excel(file)\n",
    "    \n",
    "    df = df.dropna(subset=[\"Headline\"])\n",
    "    \n",
    "    for _, row in df.iterrows():\n",
    "        headline = row[\"Headline\"]\n",
    "        true_label = row[\"True Label\"]\n",
    "        \n",
    "        headline_counter[headline] += 1\n",
    "        \n",
    "        if headline not in true_labels:\n",
    "            true_labels[headline] = true_label\n",
    "        elif true_labels[headline] != true_label:\n",
    "            print(f\"Warning: Inconsistent True Label for '{headline}'\")\n",
    "\n",
    "summary_df = pd.DataFrame([\n",
    "    {\"Headline\": headline, \"Count\": count, \"True Label\": true_labels[headline]}\n",
    "    for headline, count in headline_counter.items()\n",
    "])\n",
    "\n",
    "summary_df.to_excel(\"misclassification_summary.xlsx\", index=False)\n",
    "\n",
    "    \n"
   ]
  }
 ],
 "metadata": {
  "kernelspec": {
   "display_name": "ling111",
   "language": "python",
   "name": "python3"
  },
  "language_info": {
   "codemirror_mode": {
    "name": "ipython",
    "version": 3
   },
   "file_extension": ".py",
   "mimetype": "text/x-python",
   "name": "python",
   "nbconvert_exporter": "python",
   "pygments_lexer": "ipython3",
   "version": "3.12.3"
  },
  "toc": {
   "base_numbering": 1,
   "nav_menu": {},
   "number_sections": true,
   "sideBar": true,
   "skip_h1_title": false,
   "title_cell": "Table of Contents",
   "title_sidebar": "Contents",
   "toc_cell": false,
   "toc_position": {},
   "toc_section_display": true,
   "toc_window_display": false
  }
 },
 "nbformat": 4,
 "nbformat_minor": 2
}
