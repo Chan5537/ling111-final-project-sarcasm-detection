{
 "cells": [
  {
   "cell_type": "markdown",
   "metadata": {},
   "source": [
    "# Introduction\n",
    "\n",
    "We've used SARC dataset for sarcasm detection. <br>\n",
    "Data source: https://www.kaggle.com/danofer/sarcasm"
   ]
  },
  {
   "cell_type": "code",
   "execution_count": 1,
   "metadata": {
    "ExecuteTime": {
     "end_time": "2020-04-04T18:24:04.641764Z",
     "start_time": "2020-04-04T18:24:04.075375Z"
    }
   },
   "outputs": [],
   "source": [
    "import pandas as pd\n",
    "from sklearn.model_selection import train_test_split"
   ]
  },
  {
   "cell_type": "code",
   "execution_count": 2,
   "metadata": {
    "ExecuteTime": {
     "end_time": "2020-04-04T18:24:08.395437Z",
     "start_time": "2020-04-04T18:24:04.644261Z"
    }
   },
   "outputs": [],
   "source": [
    "data = pd.read_csv('data/raw/train-balanced-sarcasm.csv')"
   ]
  },
  {
   "cell_type": "code",
   "execution_count": 3,
   "metadata": {
    "ExecuteTime": {
     "end_time": "2020-04-04T18:24:09.955027Z",
     "start_time": "2020-04-04T18:24:09.944843Z"
    }
   },
   "outputs": [
    {
     "data": {
      "text/plain": [
       "(1010826, 10)"
      ]
     },
     "execution_count": 3,
     "metadata": {},
     "output_type": "execute_result"
    }
   ],
   "source": [
    "data.shape"
   ]
  },
  {
   "cell_type": "code",
   "execution_count": 4,
   "metadata": {
    "ExecuteTime": {
     "end_time": "2020-04-04T18:24:10.508992Z",
     "start_time": "2020-04-04T18:24:10.493092Z"
    }
   },
   "outputs": [
    {
     "data": {
      "text/plain": [
       "1    505413\n",
       "0    505413\n",
       "Name: label, dtype: int64"
      ]
     },
     "execution_count": 4,
     "metadata": {},
     "output_type": "execute_result"
    }
   ],
   "source": [
    "data['label'].value_counts()"
   ]
  },
  {
   "cell_type": "code",
   "execution_count": 5,
   "metadata": {
    "ExecuteTime": {
     "end_time": "2020-04-04T18:24:11.740986Z",
     "start_time": "2020-04-04T18:24:11.600272Z"
    }
   },
   "outputs": [],
   "source": [
    "data_pos = data[data['label'] == 1]\n",
    "data_neg = data[data['label'] == 0]"
   ]
  },
  {
   "cell_type": "code",
   "execution_count": 6,
   "metadata": {
    "ExecuteTime": {
     "end_time": "2020-04-04T18:24:47.276620Z",
     "start_time": "2020-04-04T18:24:47.269871Z"
    }
   },
   "outputs": [],
   "source": [
    "data_pos_tr = data_pos.iloc[:450000]\n",
    "\n",
    "data_pos_cv = data_pos_tr.iloc[400000:450000]\n",
    "data_pos_tr = data_pos_tr.iloc[:400000]\n",
    "\n",
    "data_pos_test = data_pos.iloc[450000:500000]\n",
    "\n",
    "data_neg_tr = data_neg.iloc[:450000]\n",
    "\n",
    "data_neg_cv = data_neg_tr.iloc[400000:450000]\n",
    "data_neg_tr = data_neg_tr.iloc[:400000]\n",
    "\n",
    "data_neg_test = data_neg.iloc[450000:500000]"
   ]
  },
  {
   "cell_type": "code",
   "execution_count": 7,
   "metadata": {
    "ExecuteTime": {
     "end_time": "2020-04-04T18:24:56.325808Z",
     "start_time": "2020-04-04T18:24:55.643640Z"
    }
   },
   "outputs": [],
   "source": [
    "data_tr = pd.concat([data_pos_tr, data_neg_tr])\n",
    "data_cv = pd.concat([data_pos_cv, data_neg_cv])\n",
    "data_test = pd.concat([data_pos_test, data_neg_test])"
   ]
  },
  {
   "cell_type": "code",
   "execution_count": 8,
   "metadata": {
    "ExecuteTime": {
     "end_time": "2020-04-04T18:25:38.281527Z",
     "start_time": "2020-04-04T18:25:38.277300Z"
    }
   },
   "outputs": [
    {
     "name": "stdout",
     "output_type": "stream",
     "text": [
      "Shape of train data: (800000, 10)\n",
      "Shape of CV data: (100000, 10)\n",
      "Shape of test data: (100000, 10)\n"
     ]
    }
   ],
   "source": [
    "print('Shape of train data: {}'.format(data_tr.shape))\n",
    "print('Shape of CV data: {}'.format(data_cv.shape))\n",
    "print('Shape of test data: {}'.format(data_test.shape))"
   ]
  },
  {
   "cell_type": "code",
   "execution_count": 10,
   "metadata": {
    "ExecuteTime": {
     "end_time": "2020-04-04T18:26:27.552263Z",
     "start_time": "2020-04-04T18:26:21.329670Z"
    }
   },
   "outputs": [],
   "source": [
    "data_tr.to_csv('data/raw/train.csv', index=False)\n",
    "data_cv.to_csv('data/raw/cv.csv', index=False)\n",
    "data_test.to_csv('data/raw/test.csv', index=False)"
   ]
  },
  {
   "cell_type": "code",
   "execution_count": null,
   "metadata": {},
   "outputs": [],
   "source": []
  }
 ],
 "metadata": {
  "kernelspec": {
   "display_name": "Python 3",
   "language": "python",
   "name": "python3"
  },
  "language_info": {
   "codemirror_mode": {
    "name": "ipython",
    "version": 3
   },
   "file_extension": ".py",
   "mimetype": "text/x-python",
   "name": "python",
   "nbconvert_exporter": "python",
   "pygments_lexer": "ipython3",
   "version": "3.6.7"
  },
  "toc": {
   "base_numbering": 1,
   "nav_menu": {},
   "number_sections": true,
   "sideBar": true,
   "skip_h1_title": false,
   "title_cell": "Table of Contents",
   "title_sidebar": "Contents",
   "toc_cell": false,
   "toc_position": {},
   "toc_section_display": true,
   "toc_window_display": false
  }
 },
 "nbformat": 4,
 "nbformat_minor": 2
}
