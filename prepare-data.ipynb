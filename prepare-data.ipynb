{
 "cells": [
  {
   "cell_type": "markdown",
   "metadata": {},
   "source": [
    "# Introduction\n",
    "\n",
    "We've used SARC dataset for sarcasm detection. <br>\n",
    "Data source: https://www.kaggle.com/danofer/sarcasm"
   ]
  },
  {
   "cell_type": "code",
   "execution_count": 30,
   "metadata": {
    "ExecuteTime": {
     "end_time": "2020-04-04T18:24:04.641764Z",
     "start_time": "2020-04-04T18:24:04.075375Z"
    }
   },
   "outputs": [],
   "source": [
    "import pandas as pd\n",
    "from sklearn.model_selection import train_test_split"
   ]
  },
  {
   "cell_type": "code",
   "execution_count": 31,
   "metadata": {
    "ExecuteTime": {
     "end_time": "2020-04-04T18:24:08.395437Z",
     "start_time": "2020-04-04T18:24:04.644261Z"
    }
   },
   "outputs": [],
   "source": [
    "data = pd.read_csv('Sarcasm_Headlines_Dataset_rand.csv')"
   ]
  },
  {
   "cell_type": "code",
   "execution_count": 32,
   "metadata": {
    "ExecuteTime": {
     "end_time": "2020-04-04T18:24:09.955027Z",
     "start_time": "2020-04-04T18:24:09.944843Z"
    }
   },
   "outputs": [
    {
     "data": {
      "text/plain": [
       "(26709, 2)"
      ]
     },
     "execution_count": 32,
     "metadata": {},
     "output_type": "execute_result"
    }
   ],
   "source": [
    "data.shape"
   ]
  },
  {
   "cell_type": "code",
   "execution_count": 33,
   "metadata": {
    "ExecuteTime": {
     "end_time": "2020-04-04T18:24:10.508992Z",
     "start_time": "2020-04-04T18:24:10.493092Z"
    }
   },
   "outputs": [
    {
     "data": {
      "text/plain": [
       "is_sarcastic\n",
       "0    14985\n",
       "1    11724\n",
       "Name: count, dtype: int64"
      ]
     },
     "execution_count": 33,
     "metadata": {},
     "output_type": "execute_result"
    }
   ],
   "source": [
    "data['is_sarcastic'].value_counts()"
   ]
  },
  {
   "cell_type": "code",
   "execution_count": 34,
   "metadata": {
    "ExecuteTime": {
     "end_time": "2020-04-04T18:24:11.740986Z",
     "start_time": "2020-04-04T18:24:11.600272Z"
    }
   },
   "outputs": [],
   "source": [
    "data_pos = data[data['is_sarcastic'] == 1]\n",
    "data_neg = data[data['is_sarcastic'] == 0]"
   ]
  },
  {
   "cell_type": "code",
   "execution_count": 44,
   "metadata": {
    "ExecuteTime": {
     "end_time": "2020-04-04T18:24:47.276620Z",
     "start_time": "2020-04-04T18:24:47.269871Z"
    }
   },
   "outputs": [],
   "source": [
    "data_pos_tr = data_pos.iloc[:9379]\n",
    "\n",
    "data_pos_cv = data_pos_tr.iloc[7034:9379]\n",
    "data_pos_tr = data_pos_tr.iloc[:9379]\n",
    "\n",
    "data_pos_test = data_pos.iloc[9379:11724]\n",
    "\n",
    "data_neg_tr = data_neg.iloc[:11988]\n",
    "\n",
    "data_neg_cv = data_neg_tr.iloc[8991:11988]\n",
    "data_neg_tr = data_neg_tr.iloc[:11988]\n",
    "\n",
    "data_neg_test = data_neg.iloc[11988:14985]"
   ]
  },
  {
   "cell_type": "code",
   "execution_count": 45,
   "metadata": {
    "ExecuteTime": {
     "end_time": "2020-04-04T18:24:56.325808Z",
     "start_time": "2020-04-04T18:24:55.643640Z"
    }
   },
   "outputs": [],
   "source": [
    "data_tr = pd.concat([data_pos_tr, data_neg_tr])\n",
    "data_cv = pd.concat([data_pos_cv, data_neg_cv])\n",
    "data_test = pd.concat([data_pos_test, data_neg_test])"
   ]
  },
  {
   "cell_type": "code",
   "execution_count": 46,
   "metadata": {
    "ExecuteTime": {
     "end_time": "2020-04-04T18:25:38.281527Z",
     "start_time": "2020-04-04T18:25:38.277300Z"
    }
   },
   "outputs": [
    {
     "name": "stdout",
     "output_type": "stream",
     "text": [
      "Shape of train data: (21367, 2)\n",
      "Shape of CV data: (5342, 2)\n",
      "Shape of test data: (5342, 2)\n"
     ]
    }
   ],
   "source": [
    "print('Shape of train data: {}'.format(data_tr.shape))\n",
    "print('Shape of CV data: {}'.format(data_cv.shape))\n",
    "print('Shape of test data: {}'.format(data_test.shape))"
   ]
  },
  {
   "cell_type": "code",
   "execution_count": 47,
   "metadata": {
    "ExecuteTime": {
     "end_time": "2020-04-04T18:26:27.552263Z",
     "start_time": "2020-04-04T18:26:21.329670Z"
    }
   },
   "outputs": [],
   "source": [
    "data_tr.to_csv('train.csv', index=False)\n",
    "data_cv.to_csv('cv.csv', index=False)\n",
    "data_test.to_csv('test.csv', index=False)"
   ]
  },
  {
   "cell_type": "code",
   "execution_count": null,
   "metadata": {},
   "outputs": [],
   "source": []
  },
  {
   "cell_type": "code",
   "execution_count": null,
   "metadata": {},
   "outputs": [],
   "source": []
  }
 ],
 "metadata": {
  "kernelspec": {
   "display_name": "Python [conda env:ling111] *",
   "language": "python",
   "name": "conda-env-ling111-py"
  },
  "language_info": {
   "codemirror_mode": {
    "name": "ipython",
    "version": 3
   },
   "file_extension": ".py",
   "mimetype": "text/x-python",
   "name": "python",
   "nbconvert_exporter": "python",
   "pygments_lexer": "ipython3",
   "version": "3.12.3"
  },
  "toc": {
   "base_numbering": 1,
   "nav_menu": {},
   "number_sections": true,
   "sideBar": true,
   "skip_h1_title": false,
   "title_cell": "Table of Contents",
   "title_sidebar": "Contents",
   "toc_cell": false,
   "toc_position": {},
   "toc_section_display": true,
   "toc_window_display": false
  }
 },
 "nbformat": 4,
 "nbformat_minor": 2
}
